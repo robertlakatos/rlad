{
 "metadata": {
  "language_info": {
   "codemirror_mode": {
    "name": "ipython",
    "version": 3
   },
   "file_extension": ".py",
   "mimetype": "text/x-python",
   "name": "python",
   "nbconvert_exporter": "python",
   "pygments_lexer": "ipython3",
   "version": "3.8.5"
  },
  "orig_nbformat": 2,
  "kernelspec": {
   "name": "python385jvsc74a57bd0a17eba6cb69d1b3c323475b473df5064bf9651839fdf73e9ec4207c0ca4ecef4",
   "display_name": "Python 3.8.5 64-bit ('base': conda)"
  }
 },
 "nbformat": 4,
 "nbformat_minor": 2,
 "cells": [
  {
   "cell_type": "code",
   "execution_count": null,
   "metadata": {
    "tags": []
   },
   "outputs": [],
   "source": [
    "from drivers.loaders.imdb import IMDB\n",
    "\n",
    "from drivers.tokenizers.word_piece_vocab import WordPieceVocab\n",
    "from drivers.tokenizers.word_level_vocab import WordLevelVocab\n",
    "from drivers.tokenizers.unigram_vocab import UnigramVocab\n",
    "from drivers.tokenizers.bpe_vocab import BPEVocab\n",
    "\n",
    "VOCAB_SIZE = 1000\n",
    "UNK_TOKEN = \"[UNK]\"\n",
    "\n",
    "db = IMDB(\"data\")\n",
    "\n",
    "vocab = WordLevelVocab(db.get_train()[\"text\"].values, UNK_TOKEN, VOCAB_SIZE)"
   ]
  },
  {
   "cell_type": "code",
   "execution_count": null,
   "metadata": {},
   "outputs": [],
   "source": [
    "import os\n",
    "\n",
    "PATH_VOCABS = \"vocabs/\"\n",
    "\n",
    "file_name_vocab = PATH_VOCABS + vocab.name + \"_\" + db.name + \".json\"\n",
    "\n",
    "print(file_name_vocab)\n",
    "\n",
    "if os.path.isfile(file_name_vocab) == False:\n",
    "    vocab.train()\n",
    "    print(\"TRAINED:\", db.name)\n",
    "    \n",
    "    vocab.save(file_name_vocab)\n",
    "    print(\"SAVED:\", db.name)\n",
    "else:\n",
    "    vocab.load(file_name_vocab)\n",
    "    print(\"LOADED:\", db.name)"
   ]
  },
  {
   "cell_type": "code",
   "execution_count": null,
   "metadata": {},
   "outputs": [],
   "source": [
    "from drivers.rl.util_tensorboard import TensorboardLoggerSimple, DummyLogger\n",
    "from drivers.rl.vocab_search import VocabEnv, VocabSearch\n",
    "\n",
    "X_train = db.get_train()[\"text\"]\n",
    "y_train = db.get_train()[\"label\"]\n",
    "X_test = db.get_train()[\"text\"]\n",
    "y_test = db.get_test()[\"label\"]\n",
    "n_classes = len(y_train.unique())"
   ]
  },
  {
   "cell_type": "code",
   "execution_count": null,
   "metadata": {},
   "outputs": [],
   "source": [
    "from drivers.models.simple import Simple\n",
    "\n",
    "simple_name = \"Simple_\" + db.name + \"_\" + vocab.name\n",
    "\n",
    "model = Simple(input_length=128, output_size=db.get_labels(),\n",
    "                repeate=1,\n",
    "                name=simple_name)"
   ]
  },
  {
   "cell_type": "code",
   "execution_count": null,
   "metadata": {},
   "outputs": [],
   "source": [
    "vocab_search = VocabSearch(X_train, y_train, {v: k for k, v in vocab.tokenizer.get_vocab().items()}, n_classes, model=model, input_length=128, logger=DummyLogger(log_dir=\"\")) #logger=TensorboardLoggerSimple(log_dir=\"tb_logs\")"
   ]
  },
  {
   "cell_type": "code",
   "execution_count": null,
   "metadata": {},
   "outputs": [],
   "source": [
    "from tensorflow.python.keras.utils.vis_utils import plot_model\n",
    "\n",
    "env = VocabEnv(X_train, y_train, None, None, possible_words=vocab.tokenizer.get_vocab(), input_length=model.input_length, n_classes=n_classes, model=model)\n",
    "\n",
    "env.reset()\n",
    "\n",
    "model_built = env._build_model()\n",
    "\n",
    "plot_model(model_built, show_shapes=True, show_layer_names=True)"
   ]
  },
  {
   "cell_type": "code",
   "execution_count": null,
   "metadata": {},
   "outputs": [],
   "source": [
    "\n",
    "#model._create_model(vocab_size=10)\n",
    "#model.model.fit(env._preprocess_input(X_train), y_train)"
   ]
  },
  {
   "cell_type": "code",
   "execution_count": null,
   "metadata": {
    "tags": []
   },
   "outputs": [],
   "source": [
    "vocab_search.search(n_envs=1, single_thread=True)"
   ]
  }
 ]
}